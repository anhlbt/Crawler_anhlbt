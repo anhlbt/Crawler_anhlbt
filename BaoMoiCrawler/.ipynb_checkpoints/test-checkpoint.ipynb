{
 "cells": [
  {
   "cell_type": "code",
   "execution_count": null,
   "metadata": {},
   "outputs": [],
   "source": [
    "#preprocessing http://sachnoiviet.com/"
   ]
  },
  {
   "cell_type": "code",
   "execution_count": 1,
   "metadata": {},
   "outputs": [],
   "source": [
    "input_folder = '/media/anhlbt/AnhLBT/DATASET/audiobook'\n",
    "output_folder = '/media/anhlbt/AnhLBT/DATASET/audiobook'"
   ]
  },
  {
   "cell_type": "code",
   "execution_count": 2,
   "metadata": {},
   "outputs": [
    {
     "name": "stdout",
     "output_type": "stream",
     "text": [
      "[]\n"
     ]
    }
   ],
   "source": [
    "import re\n",
    "import os\n",
    "import time\n",
    "from pydub import AudioSegment\n",
    "from pydub.playback import play\n",
    "from os.path import isdir, join, exists, basename\n",
    "import shutil, zipfile\n",
    "\n",
    "\n",
    "\n",
    "def filter_file_by_ext(ext1='.txt'):\n",
    "    lst = [d.split(ext1)[0] for d in os.listdir(input_folder) if d.endswith(ext1)]\n",
    "    return lst\n",
    "\n",
    "lst_audio =[]\n",
    "text_file_lst = filter_file_by_ext('.txt')\n",
    "\n",
    "for text in text_file_lst:\n",
    "    book_name = text.split('-')[0].replace(\" \",\"\")\n",
    "    print(book_name)\n",
    "    regex = re.compile(\".*{0}*.\".format(book_name)) #get name of the book only\n",
    "    lst_audio.extend(list(filter(regex.match, filter_file_by_ext('.mp3'))))\n",
    "print(lst_audio)"
   ]
  },
  {
   "cell_type": "code",
   "execution_count": 3,
   "metadata": {},
   "outputs": [
    {
     "ename": "NameError",
     "evalue": "name 'book_name' is not defined",
     "output_type": "error",
     "traceback": [
      "\u001b[0;31m---------------------------------------------------------------------------\u001b[0m",
      "\u001b[0;31mNameError\u001b[0m                                 Traceback (most recent call last)",
      "\u001b[0;32m<ipython-input-3-e2bac8503aac>\u001b[0m in \u001b[0;36m<module>\u001b[0;34m\u001b[0m\n\u001b[0;32m----> 1\u001b[0;31m \u001b[0mbook_name\u001b[0m\u001b[0;34m\u001b[0m\u001b[0;34m\u001b[0m\u001b[0m\n\u001b[0m",
      "\u001b[0;31mNameError\u001b[0m: name 'book_name' is not defined"
     ]
    }
   ],
   "source": [
    "book_name"
   ]
  },
  {
   "cell_type": "code",
   "execution_count": 4,
   "metadata": {},
   "outputs": [],
   "source": [
    "# lst_rename = filter_file_by_ext('.mp3')\n",
    "# for i, file in enumerate(lst_rename):\n",
    "#     os.rename(join(input_folder, file+\".mp3\"), join(input_folder, \"KeCuopBenBoi_\"+str(i)+\".mp3\"))"
   ]
  },
  {
   "cell_type": "code",
   "execution_count": 5,
   "metadata": {},
   "outputs": [],
   "source": [
    "\n",
    "def merge_audio(chapters, input_folder, output_name):\n",
    "    audios = [AudioSegment.from_mp3(join(input_folder, \"{0}.mp3\".format(mp3_chapter))) for mp3_chapter in chapters]\n",
    "    print(audios)\n",
    "    combined = audios[0]\n",
    "\n",
    "    for wav in audios[1:]:\n",
    "        combined = combined.append(wav)\n",
    "    combined.export(join(input_folder,\"{0}.mp3\".format(output_name)), format=\"mp3\")     \n"
   ]
  },
  {
   "cell_type": "code",
   "execution_count": 6,
   "metadata": {},
   "outputs": [
    {
     "ename": "NameError",
     "evalue": "name 'book_name' is not defined",
     "output_type": "error",
     "traceback": [
      "\u001b[0;31m---------------------------------------------------------------------------\u001b[0m",
      "\u001b[0;31mNameError\u001b[0m                                 Traceback (most recent call last)",
      "\u001b[0;32m<ipython-input-6-c9b0e91d345d>\u001b[0m in \u001b[0;36m<module>\u001b[0;34m\u001b[0m\n\u001b[0;32m----> 1\u001b[0;31m \u001b[0mmerge_audio\u001b[0m\u001b[0;34m(\u001b[0m\u001b[0mlst_audio\u001b[0m\u001b[0;34m,\u001b[0m \u001b[0minput_folder\u001b[0m\u001b[0;34m,\u001b[0m \u001b[0mbook_name\u001b[0m\u001b[0;34m)\u001b[0m\u001b[0;34m\u001b[0m\u001b[0;34m\u001b[0m\u001b[0m\n\u001b[0m",
      "\u001b[0;31mNameError\u001b[0m: name 'book_name' is not defined"
     ]
    }
   ],
   "source": [
    "merge_audio(lst_audio, input_folder, book_name)"
   ]
  },
  {
   "cell_type": "code",
   "execution_count": 1,
   "metadata": {},
   "outputs": [],
   "source": [
    "\n",
    "from alignment.forced_alignment import AlignmentAudio\n",
    "from alignment.config import ConfigEbook\n",
    "import os, random\n",
    "from os.path import isdir, join, exists\n",
    "import shutil\n",
    "import pandas as pd\n",
    "from utils.instalogger import InstaLogger"
   ]
  },
  {
   "cell_type": "code",
   "execution_count": 2,
   "metadata": {},
   "outputs": [
    {
     "name": "stdout",
     "output_type": "stream",
     "text": [
      "1\n"
     ]
    }
   ],
   "source": [
    "text_folder = '/media/anhlbt/AnhLBT/DATASET/audiobook/output1'\n",
    "audio_folder = '/media/anhlbt/AnhLBT/DATASET/audiobook/output1'\n",
    "aligned_folder = '/media/anhlbt/AnhLBT/DATASET/audiobook/output1'\n",
    "output_folder = '/media/anhlbt/AnhLBT/DATASET/audiobook/output1'\n",
    "characters = r\"\"\"[^0-9AĂÂBCDĐEÊGHIKLMNOÔƠPQRSTUƯVXYFJWZÁẮẤÉẾÍÓỐỚÚỨÝÀẰẦÈỀÌÒỒỜÙỪỲẢẲẨẺỂỈỎỔỞỦỬỶÃẴẪẼỄĨÕỖỠŨỮỸẠẶẬẸỆỊỌỘỢỤỰỴaăâbcdđeêghiklmnoôơpqrstuưvxyfjwzáắấéếíóốớúứýàằầèềìòồờùừỳảẳẩẻểỉỏổởủửỷãẵẫẽễĩõỗỡũữỹạặậẹệịọộợụựỵ,-./\\s+\"']\"\"\"\n",
    "language = \"vie\"\n",
    "\n",
    "# check extension file    \n",
    "set_audio_files = set([d[:-4] for d in os.listdir(audio_folder) if d.endswith(\".mp3\")])\n",
    "lst_text_files = set([d[:-4] for d in os.listdir(text_folder) if d.endswith(\".txt\")])\n",
    "# lst_audio_files = [d for d in os.listdir(audio_folder) if not isdir(join(audio_folder, d))]\n",
    "\n",
    "print(len(lst_text_files))\n"
   ]
  },
  {
   "cell_type": "code",
   "execution_count": 3,
   "metadata": {},
   "outputs": [
    {
     "data": {
      "text/plain": [
       "{'KeCuopBenBoi_0'}"
      ]
     },
     "execution_count": 3,
     "metadata": {},
     "output_type": "execute_result"
    }
   ],
   "source": [
    "# lst_text_files\n",
    "set_audio_files"
   ]
  },
  {
   "cell_type": "code",
   "execution_count": 4,
   "metadata": {},
   "outputs": [
    {
     "name": "stderr",
     "output_type": "stream",
     "text": [
      "INFO [2020-07-25 22:29:12] file: KeCuopBenBoi_0\n"
     ]
    },
    {
     "name": "stdout",
     "output_type": "stream",
     "text": [
      "/media/anhlbt/AnhLBT/DATASET/audiobook/output1/KeCuopBenBoi_0.json\n",
      "Number of sentences: 338\n"
     ]
    }
   ],
   "source": [
    "count = 1\n",
    "for _file in set_audio_files:\n",
    "    if _file in lst_text_files:\n",
    "        try:\n",
    "            InstaLogger.logger().info('file: %s' %(_file))\n",
    "            audio_file = join(audio_folder, \"{0}.mp3\".format(_file)) #lst_rd = random.sample(['1','2', '8','9'], 4)  #  \n",
    "            # shutil.copyfile(audio_file, join(temp_folder, \"{0}.mp3\".format(_file)))\n",
    "            script_file = join(text_folder, \"{0}.txt\".format(_file))\n",
    "            aligned_file =join(aligned_folder, \"{0}.json\".format(_file))\n",
    "            print(aligned_file)\n",
    "            align_obj = AlignmentAudio(audio_file, script_file, aligned_file, characters, output_folder,language)\n",
    "            align_obj.preprocessing_script()\n",
    "            align_obj.align_audio()\n",
    "\n",
    "        except Exception as ex:\n",
    "            InstaLogger.logger().error(ex)"
   ]
  },
  {
   "cell_type": "code",
   "execution_count": 5,
   "metadata": {},
   "outputs": [
    {
     "data": {
      "text/plain": [
       "'/media/anhlbt/AnhLBT/DATASET/audiobook/output1/KeCuopBenBoi_0.txt'"
      ]
     },
     "execution_count": 5,
     "metadata": {},
     "output_type": "execute_result"
    }
   ],
   "source": [
    "script_file"
   ]
  },
  {
   "cell_type": "code",
   "execution_count": null,
   "metadata": {},
   "outputs": [],
   "source": []
  },
  {
   "cell_type": "code",
   "execution_count": null,
   "metadata": {},
   "outputs": [],
   "source": [
    "# superset run -p 8080 --with-threads --reload --debugger"
   ]
  },
  {
   "cell_type": "code",
   "execution_count": 2,
   "metadata": {},
   "outputs": [
    {
     "name": "stdout",
     "output_type": "stream",
     "text": [
      "{'user': 'superset', 'dbname': 'superset', 'host': '127.0.0.1', 'port': '5432', 'tty': '', 'options': '', 'sslmode': 'prefer', 'sslcompression': '0', 'krbsrvname': 'postgres', 'target_session_attrs': 'any'} \n",
      "\n",
      "You are connected to -  ('PostgreSQL 12.3 (Ubuntu 12.3-1.pgdg18.04+1) on x86_64-pc-linux-gnu, compiled by gcc (Ubuntu 7.5.0-3ubuntu1~18.04) 7.5.0, 64-bit',) \n",
      "\n",
      "PostgreSQL connection is closed\n"
     ]
    }
   ],
   "source": [
    "import psycopg2\n",
    "try:\n",
    "    connection = psycopg2.connect(user = \"superset\",\n",
    "                                  password = \"superset\",\n",
    "                                  host = \"127.0.0.1\",\n",
    "                                  port = \"5432\",\n",
    "                                  database = \"superset\")\n",
    "\n",
    "    cursor = connection.cursor()\n",
    "    # Print PostgreSQL Connection properties\n",
    "    print ( connection.get_dsn_parameters(),\"\\n\")\n",
    "\n",
    "    # Print PostgreSQL version\n",
    "    cursor.execute(\"SELECT version();\")\n",
    "    record = cursor.fetchone()\n",
    "    print(\"You are connected to - \", record,\"\\n\")\n",
    "\n",
    "except (Exception, psycopg2.Error) as error:\n",
    "    print(\"Error while connecting to PostgreSQL\", error)\n",
    "finally:\n",
    "    #closing database connection.\n",
    "        if(connection):\n",
    "            cursor.close()\n",
    "            connection.close()\n",
    "            print(\"PostgreSQL connection is closed\")"
   ]
  },
  {
   "cell_type": "code",
   "execution_count": null,
   "metadata": {},
   "outputs": [],
   "source": []
  },
  {
   "cell_type": "code",
   "execution_count": null,
   "metadata": {},
   "outputs": [],
   "source": []
  }
 ],
 "metadata": {
  "kernelspec": {
   "display_name": "tf2",
   "language": "python",
   "name": "tf2"
  },
  "language_info": {
   "codemirror_mode": {
    "name": "ipython",
    "version": 3
   },
   "file_extension": ".py",
   "mimetype": "text/x-python",
   "name": "python",
   "nbconvert_exporter": "python",
   "pygments_lexer": "ipython3",
   "version": "3.7.5"
  }
 },
 "nbformat": 4,
 "nbformat_minor": 2
}
