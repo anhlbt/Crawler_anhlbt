{
 "cells": [
  {
   "cell_type": "code",
   "execution_count": 1,
   "metadata": {},
   "outputs": [],
   "source": [
    "import pandas as pd"
   ]
  },
  {
   "cell_type": "code",
   "execution_count": 4,
   "metadata": {},
   "outputs": [],
   "source": [
    "bds = pd.read_csv(\"./batdongsan_spider/batdongsan.csv\", sep='|')"
   ]
  },
  {
   "cell_type": "code",
   "execution_count": 5,
   "metadata": {},
   "outputs": [
    {
     "data": {
      "text/html": [
       "<div>\n",
       "<style scoped>\n",
       "    .dataframe tbody tr th:only-of-type {\n",
       "        vertical-align: middle;\n",
       "    }\n",
       "\n",
       "    .dataframe tbody tr th {\n",
       "        vertical-align: top;\n",
       "    }\n",
       "\n",
       "    .dataframe thead th {\n",
       "        text-align: right;\n",
       "    }\n",
       "</style>\n",
       "<table border=\"1\" class=\"dataframe\">\n",
       "  <thead>\n",
       "    <tr style=\"text-align: right;\">\n",
       "      <th></th>\n",
       "      <th>address</th>\n",
       "      <th>lat</th>\n",
       "      <th>lon</th>\n",
       "      <th>mobile</th>\n",
       "      <th>name</th>\n",
       "      <th>short_info</th>\n",
       "      <th>url</th>\n",
       "    </tr>\n",
       "  </thead>\n",
       "  <tbody>\n",
       "    <tr>\n",
       "      <th>0</th>\n",
       "      <td>Dự án NovaWorld Phan Thiết, Đường Lạc Long Quâ...</td>\n",
       "      <td>10.835329</td>\n",
       "      <td>108.037987</td>\n",
       "      <td>938995831</td>\n",
       "      <td>Nguyễn Huy Hoàng</td>\n",
       "      <td>25/09/2020,02/10/2020,Tin Vip 1,27178111</td>\n",
       "      <td>https://batdongsan.com.vn/ban-nha-biet-thu-lie...</td>\n",
       "    </tr>\n",
       "    <tr>\n",
       "      <th>1</th>\n",
       "      <td>Bắc Bình, Bình Thuận</td>\n",
       "      <td>11.279232</td>\n",
       "      <td>108.376670</td>\n",
       "      <td>566666688</td>\n",
       "      <td>Đất Tín</td>\n",
       "      <td>21/09/2020,01/10/2020,Tin Vip đặc biệt,26804554</td>\n",
       "      <td>https://batdongsan.com.vn/ban-dat-bac-binh-bth...</td>\n",
       "    </tr>\n",
       "    <tr>\n",
       "      <th>2</th>\n",
       "      <td>Dự án Ocean Dunes, Đường Nguyễn Tất Thành, Phư...</td>\n",
       "      <td>10.928999</td>\n",
       "      <td>108.116226</td>\n",
       "      <td>915077651</td>\n",
       "      <td>Trịnh Tùng Lâm</td>\n",
       "      <td>25/09/2020,02/10/2020,Tin Vip 1,20383834</td>\n",
       "      <td>https://batdongsan.com.vn/ban-dat-nen-du-an-du...</td>\n",
       "    </tr>\n",
       "    <tr>\n",
       "      <th>3</th>\n",
       "      <td>Bắc Bình, Bình Thuận</td>\n",
       "      <td>11.279232</td>\n",
       "      <td>108.376670</td>\n",
       "      <td>566666688</td>\n",
       "      <td>Đất Tín</td>\n",
       "      <td>22/09/2020,02/10/2020,Tin Vip đặc biệt,26256485</td>\n",
       "      <td>https://batdongsan.com.vn/ban-dat-nen-du-an-ba...</td>\n",
       "    </tr>\n",
       "    <tr>\n",
       "      <th>4</th>\n",
       "      <td>Dự án Hill Villas, Đường Nguyễn Thông, Phường ...</td>\n",
       "      <td>10.939802</td>\n",
       "      <td>108.162041</td>\n",
       "      <td>915998936</td>\n",
       "      <td>Mr.năng</td>\n",
       "      <td>26/09/2020,25/10/2020,Tin Vip 1,26899584</td>\n",
       "      <td>https://batdongsan.com.vn/ban-nha-biet-thu-lie...</td>\n",
       "    </tr>\n",
       "  </tbody>\n",
       "</table>\n",
       "</div>"
      ],
      "text/plain": [
       "                                             address        lat         lon  \\\n",
       "0  Dự án NovaWorld Phan Thiết, Đường Lạc Long Quâ...  10.835329  108.037987   \n",
       "1                               Bắc Bình, Bình Thuận  11.279232  108.376670   \n",
       "2  Dự án Ocean Dunes, Đường Nguyễn Tất Thành, Phư...  10.928999  108.116226   \n",
       "3                               Bắc Bình, Bình Thuận  11.279232  108.376670   \n",
       "4  Dự án Hill Villas, Đường Nguyễn Thông, Phường ...  10.939802  108.162041   \n",
       "\n",
       "      mobile              name  \\\n",
       "0  938995831  Nguyễn Huy Hoàng   \n",
       "1  566666688           Đất Tín   \n",
       "2  915077651    Trịnh Tùng Lâm   \n",
       "3  566666688           Đất Tín   \n",
       "4  915998936           Mr.năng   \n",
       "\n",
       "                                        short_info  \\\n",
       "0         25/09/2020,02/10/2020,Tin Vip 1,27178111   \n",
       "1  21/09/2020,01/10/2020,Tin Vip đặc biệt,26804554   \n",
       "2         25/09/2020,02/10/2020,Tin Vip 1,20383834   \n",
       "3  22/09/2020,02/10/2020,Tin Vip đặc biệt,26256485   \n",
       "4         26/09/2020,25/10/2020,Tin Vip 1,26899584   \n",
       "\n",
       "                                                 url  \n",
       "0  https://batdongsan.com.vn/ban-nha-biet-thu-lie...  \n",
       "1  https://batdongsan.com.vn/ban-dat-bac-binh-bth...  \n",
       "2  https://batdongsan.com.vn/ban-dat-nen-du-an-du...  \n",
       "3  https://batdongsan.com.vn/ban-dat-nen-du-an-ba...  \n",
       "4  https://batdongsan.com.vn/ban-nha-biet-thu-lie...  "
      ]
     },
     "execution_count": 5,
     "metadata": {},
     "output_type": "execute_result"
    }
   ],
   "source": [
    "bds.head()"
   ]
  },
  {
   "cell_type": "code",
   "execution_count": 7,
   "metadata": {},
   "outputs": [
    {
     "ename": "AttributeError",
     "evalue": "'Series' object has no attribute 'split'",
     "output_type": "error",
     "traceback": [
      "\u001b[0;31m---------------------------------------------------------------------------\u001b[0m",
      "\u001b[0;31mAttributeError\u001b[0m                            Traceback (most recent call last)",
      "\u001b[0;32m<ipython-input-7-d7c7c4503467>\u001b[0m in \u001b[0;36m<module>\u001b[0;34m\u001b[0m\n\u001b[0;32m----> 1\u001b[0;31m \u001b[0mbds\u001b[0m\u001b[0;34m[\u001b[0m\u001b[0;34m'district'\u001b[0m\u001b[0;34m]\u001b[0m \u001b[0;34m=\u001b[0m \u001b[0mbds\u001b[0m\u001b[0;34m[\u001b[0m\u001b[0;34m'address'\u001b[0m\u001b[0;34m]\u001b[0m\u001b[0;34m.\u001b[0m\u001b[0msplit\u001b[0m\u001b[0;34m(\u001b[0m\u001b[0;34m','\u001b[0m\u001b[0;34m)\u001b[0m\u001b[0;34m[\u001b[0m\u001b[0;34m-\u001b[0m\u001b[0;36m2\u001b[0m\u001b[0;34m]\u001b[0m\u001b[0;34m\u001b[0m\u001b[0;34m\u001b[0m\u001b[0m\n\u001b[0m",
      "\u001b[0;32m~/anaconda3/lib/python3.7/site-packages/pandas/core/generic.py\u001b[0m in \u001b[0;36m__getattr__\u001b[0;34m(self, name)\u001b[0m\n\u001b[1;32m   5272\u001b[0m             \u001b[0;32mif\u001b[0m \u001b[0mself\u001b[0m\u001b[0;34m.\u001b[0m\u001b[0m_info_axis\u001b[0m\u001b[0;34m.\u001b[0m\u001b[0m_can_hold_identifiers_and_holds_name\u001b[0m\u001b[0;34m(\u001b[0m\u001b[0mname\u001b[0m\u001b[0;34m)\u001b[0m\u001b[0;34m:\u001b[0m\u001b[0;34m\u001b[0m\u001b[0;34m\u001b[0m\u001b[0m\n\u001b[1;32m   5273\u001b[0m                 \u001b[0;32mreturn\u001b[0m \u001b[0mself\u001b[0m\u001b[0;34m[\u001b[0m\u001b[0mname\u001b[0m\u001b[0;34m]\u001b[0m\u001b[0;34m\u001b[0m\u001b[0;34m\u001b[0m\u001b[0m\n\u001b[0;32m-> 5274\u001b[0;31m             \u001b[0;32mreturn\u001b[0m \u001b[0mobject\u001b[0m\u001b[0;34m.\u001b[0m\u001b[0m__getattribute__\u001b[0m\u001b[0;34m(\u001b[0m\u001b[0mself\u001b[0m\u001b[0;34m,\u001b[0m \u001b[0mname\u001b[0m\u001b[0;34m)\u001b[0m\u001b[0;34m\u001b[0m\u001b[0;34m\u001b[0m\u001b[0m\n\u001b[0m\u001b[1;32m   5275\u001b[0m \u001b[0;34m\u001b[0m\u001b[0m\n\u001b[1;32m   5276\u001b[0m     \u001b[0;32mdef\u001b[0m \u001b[0m__setattr__\u001b[0m\u001b[0;34m(\u001b[0m\u001b[0mself\u001b[0m\u001b[0;34m,\u001b[0m \u001b[0mname\u001b[0m\u001b[0;34m:\u001b[0m \u001b[0mstr\u001b[0m\u001b[0;34m,\u001b[0m \u001b[0mvalue\u001b[0m\u001b[0;34m)\u001b[0m \u001b[0;34m->\u001b[0m \u001b[0;32mNone\u001b[0m\u001b[0;34m:\u001b[0m\u001b[0;34m\u001b[0m\u001b[0;34m\u001b[0m\u001b[0m\n",
      "\u001b[0;31mAttributeError\u001b[0m: 'Series' object has no attribute 'split'"
     ]
    }
   ],
   "source": [
    "bds['district'] = bds['address'].split(',')[-2]"
   ]
  },
  {
   "cell_type": "code",
   "execution_count": null,
   "metadata": {},
   "outputs": [],
   "source": []
  }
 ],
 "metadata": {
  "kernelspec": {
   "display_name": "Python 3",
   "language": "python",
   "name": "python3"
  },
  "language_info": {
   "codemirror_mode": {
    "name": "ipython",
    "version": 3
   },
   "file_extension": ".py",
   "mimetype": "text/x-python",
   "name": "python",
   "nbconvert_exporter": "python",
   "pygments_lexer": "ipython3",
   "version": "3.7.3"
  }
 },
 "nbformat": 4,
 "nbformat_minor": 4
}
